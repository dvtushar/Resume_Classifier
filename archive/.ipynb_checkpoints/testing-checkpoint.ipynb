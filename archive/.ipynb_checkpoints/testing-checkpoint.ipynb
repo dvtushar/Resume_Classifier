{
 "cells": [
  {
   "cell_type": "code",
   "execution_count": 10,
   "id": "2584a361",
   "metadata": {},
   "outputs": [],
   "source": [
    "# testing and running the model with a pdf file "
   ]
  },
  {
   "cell_type": "code",
   "execution_count": 16,
   "id": "a3953289",
   "metadata": {},
   "outputs": [
    {
     "name": "stdout",
     "output_type": "stream",
     "text": [
      "The predicted job category is: BUSINESS-DEVELOPMENT\n"
     ]
    }
   ],
   "source": [
    "import torch\n",
    "import PyPDF2\n",
    "from transformers import BertTokenizer, BertForSequenceClassification\n",
    "import numpy as np\n",
    "from sklearn.preprocessing import LabelEncoder\n",
    "import os\n",
    "\n",
    "# Load the model and tokenizer\n",
    "output_dir = './ResumeClassifier_model/'\n",
    "model = BertForSequenceClassification.from_pretrained(output_dir)\n",
    "tokenizer = BertTokenizer.from_pretrained(output_dir)\n",
    "\n",
    "# Load label encoder classes\n",
    "label_encoder = LabelEncoder()\n",
    "label_classes_path = os.path.join(output_dir, 'label_classes.npy')\n",
    "if os.path.exists(label_classes_path):\n",
    "    label_encoder.classes_ = np.load(label_classes_path, allow_pickle=True)\n",
    "else:\n",
    "    raise FileNotFoundError(f\"The file {label_classes_path} does not exist. Ensure you have saved the label encoder classes.\")\n",
    "\n",
    "# Use GPU if available\n",
    "device = torch.device('cuda') if torch.cuda.is_available() else torch.device('cpu')\n",
    "model.to(device)\n",
    "model.eval()\n",
    "\n",
    "# Function to extract text from PDF\n",
    "def extract_text_from_pdf(pdf_path):\n",
    "    pdf_reader = PyPDF2.PdfReader(pdf_path)\n",
    "    text = ''\n",
    "    for page in pdf_reader.pages:\n",
    "        text += page.extract_text()\n",
    "    return text\n",
    "\n",
    "# Function to preprocess the text\n",
    "def preprocess_text(text, tokenizer, max_len=256):\n",
    "    encoded = tokenizer.encode_plus(\n",
    "        text,\n",
    "        add_special_tokens=True,\n",
    "        max_length=max_len,\n",
    "        padding='max_length',\n",
    "        return_attention_mask=True,\n",
    "        return_tensors='pt',\n",
    "        truncation=True\n",
    "    )\n",
    "    return encoded['input_ids'], encoded['attention_mask']\n",
    "\n",
    "# Function to predict job category\n",
    "def predict_job_category(text, model, tokenizer, label_encoder):\n",
    "    inputs, masks = preprocess_text(text, tokenizer)\n",
    "    inputs, masks = inputs.to(device), masks.to(device)\n",
    "\n",
    "    with torch.no_grad():\n",
    "        outputs = model(inputs, attention_mask=masks)\n",
    "    \n",
    "    logits = outputs.logits\n",
    "    prediction = torch.argmax(logits, dim=1).cpu().numpy()\n",
    "    predicted_label = label_encoder.inverse_transform(prediction)\n",
    "    \n",
    "    return predicted_label[0]\n",
    "\n",
    "# Path to the PDF file\n",
    "pdf_path = '11551946.pdf'\n",
    "\n",
    "# Extract text from PDF\n",
    "text = extract_text_from_pdf(pdf_path)\n",
    "\n",
    "# Predict job category\n",
    "predicted_category = predict_job_category(text, model, tokenizer, label_encoder)\n",
    "\n",
    "print(f'The predicted job category is: {predicted_category}')\n"
   ]
  },
  {
   "cell_type": "code",
   "execution_count": null,
   "id": "baf46873",
   "metadata": {},
   "outputs": [],
   "source": []
  }
 ],
 "metadata": {
  "kernelspec": {
   "display_name": "Python 3 (ipykernel)",
   "language": "python",
   "name": "python3"
  },
  "language_info": {
   "codemirror_mode": {
    "name": "ipython",
    "version": 3
   },
   "file_extension": ".py",
   "mimetype": "text/x-python",
   "name": "python",
   "nbconvert_exporter": "python",
   "pygments_lexer": "ipython3",
   "version": "3.10.7"
  }
 },
 "nbformat": 4,
 "nbformat_minor": 5
}
