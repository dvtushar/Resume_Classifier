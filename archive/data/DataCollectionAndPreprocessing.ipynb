{
 "cells": [
  {
   "cell_type": "code",
   "execution_count": 4,
   "id": "be06618b",
   "metadata": {},
   "outputs": [
    {
     "name": "stderr",
     "output_type": "stream",
     "text": [
      "Processing PDF resumes: 100%|██████████████████████████████████████████████████████| 2484/2484 [07:43<00:00,  5.36it/s]\n",
      "Processing text resumes: 0it [00:00, ?it/s]\n"
     ]
    },
    {
     "name": "stdout",
     "output_type": "stream",
     "text": [
      "Data collection and preprocessing complete.\n"
     ]
    }
   ],
   "source": [
    "# Step 1: Data Collection and Preprocessing\n",
    "\n",
    "# Required Libraries\n",
    "import os\n",
    "import re\n",
    "import pandas as pd\n",
    "from PyPDF2 import PdfReader\n",
    "from tqdm import tqdm\n",
    "from sklearn.model_selection import train_test_split\n",
    "\n",
    "# Function to read PDF files and convert to text\n",
    "def read_pdf(file_path):\n",
    "    pdf_text = ''\n",
    "    try:\n",
    "        with open(file_path, 'rb') as file:\n",
    "            reader = PdfReader(file)\n",
    "            for page in reader.pages:\n",
    "                pdf_text += page.extract_text()\n",
    "    except Exception as e:\n",
    "        print(f\"Error reading {file_path}: {e}\")\n",
    "    return pdf_text\n",
    "\n",
    "# Function to clean and preprocess text data\n",
    "def clean_text(text):\n",
    "    text = text.lower()\n",
    "    text = re.sub(r'\\n', ' ', text)  # Replace newlines with space\n",
    "    text = re.sub(r'\\s+', ' ', text)  # Replace multiple spaces with a single space\n",
    "    text = re.sub(r'[^a-z0-9 ]', '', text)  # Remove special characters\n",
    "    return text.strip()\n",
    "\n",
    "# Function to recursively find all files with a given extension in a directory\n",
    "def find_all_files(directory, extension):\n",
    "    files = []\n",
    "    for root, dirs, files_list in os.walk(directory):\n",
    "        for file in files_list:\n",
    "            if file.lower().endswith(extension):\n",
    "                files.append(os.path.join(root, file))\n",
    "    return files\n",
    "\n",
    "# Root directory containing folders with job categories and resumes\n",
    "root_dir = 'data'\n",
    "\n",
    "# List to hold the preprocessed data\n",
    "data = []\n",
    "\n",
    "# Find all PDF and text files in the root directory and its subdirectories\n",
    "pdf_files = find_all_files(root_dir, '.pdf')\n",
    "text_files = find_all_files(root_dir, '.txt')\n",
    "\n",
    "# Process PDF resumes\n",
    "for file_path in tqdm(pdf_files, desc=\"Processing PDF resumes\"):\n",
    "    file_name = os.path.basename(file_path)\n",
    "    job_category = os.path.basename(os.path.dirname(file_path))\n",
    "    text = read_pdf(file_path)\n",
    "    cleaned_text = clean_text(text)\n",
    "    data.append({'file_name': file_name, 'text': cleaned_text, 'format': 'pdf', 'job_category': job_category})\n",
    "\n",
    "# Process text resumes\n",
    "for file_path in tqdm(text_files, desc=\"Processing text resumes\"):\n",
    "    file_name = os.path.basename(file_path)\n",
    "    job_category = os.path.basename(os.path.dirname(file_path))\n",
    "    with open(file_path, 'r', encoding='utf-8') as file:\n",
    "        text = file.read()\n",
    "        cleaned_text = clean_text(text)\n",
    "        data.append({'file_name': file_name, 'text': cleaned_text, 'format': 'text', 'job_category': job_category})\n",
    "\n",
    "# Converting list to DataFrame\n",
    "df = pd.DataFrame(data)\n",
    "\n",
    "# Save the preprocessed data to a CSV file\n",
    "df.to_csv('preprocessed_resumes.csv', index=False)\n",
    "\n",
    "# Split the dataset into training, validation, and test sets\n",
    "train, temp = train_test_split(df, test_size=0.3, random_state=42)\n",
    "val, test = train_test_split(temp, test_size=0.5, random_state=42)\n",
    "\n",
    "# Save the split datasets\n",
    "train.to_csv('train.csv', index=False)\n",
    "val.to_csv('val.csv', index=False)\n",
    "test.to_csv('test.csv', index=False)\n",
    "\n",
    "print(\"Data collection and preprocessing complete.\")\n"
   ]
  },
  {
   "cell_type": "code",
   "execution_count": null,
   "id": "cc076863",
   "metadata": {},
   "outputs": [],
   "source": []
  }
 ],
 "metadata": {
  "kernelspec": {
   "display_name": "Python 3 (ipykernel)",
   "language": "python",
   "name": "python3"
  },
  "language_info": {
   "codemirror_mode": {
    "name": "ipython",
    "version": 3
   },
   "file_extension": ".py",
   "mimetype": "text/x-python",
   "name": "python",
   "nbconvert_exporter": "python",
   "pygments_lexer": "ipython3",
   "version": "3.10.7"
  }
 },
 "nbformat": 4,
 "nbformat_minor": 5
}
